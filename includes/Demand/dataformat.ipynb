{
 "cells": [
  {
   "cell_type": "code",
   "execution_count": 2,
   "metadata": {},
   "outputs": [],
   "source": [
    "import pandas as pd"
   ]
  },
  {
   "cell_type": "code",
   "execution_count": 4,
   "metadata": {},
   "outputs": [],
   "source": [
    "#read csv\n",
    "df = pd.read_csv('/Users/naroacorettisanchez/Documents/GitHub/MultifunctionalVehicleFleets/includes/Demand/food_demand_cambridge_week-plotting.csv')"
   ]
  },
  {
   "cell_type": "code",
   "execution_count": 5,
   "metadata": {},
   "outputs": [
    {
     "data": {
      "text/plain": [
       "activity_id         float64\n",
       "start_latitude      float64\n",
       "start_longitude     float64\n",
       "end_latitude        float64\n",
       "end_longitude       float64\n",
       "travel_purpose       object\n",
       "start_t              object\n",
       "Unnamed: 7          float64\n",
       "duration_minutes      int64\n",
       "distance_miles      float64\n",
       "start_hour            int64\n",
       "same_place           object\n",
       "day                   int64\n",
       "Unnamed: 13         float64\n",
       "Unnamed: 14          object\n",
       "dtype: object"
      ]
     },
     "execution_count": 5,
     "metadata": {},
     "output_type": "execute_result"
    }
   ],
   "source": [
    "df.dtypes"
   ]
  },
  {
   "cell_type": "code",
   "execution_count": 9,
   "metadata": {},
   "outputs": [
    {
     "data": {
      "text/plain": [
       "0         10/12/22 0:21\n",
       "1         10/12/22 0:59\n",
       "2         10/12/22 0:59\n",
       "3         10/12/22 3:29\n",
       "4         10/12/22 4:28\n",
       "              ...      \n",
       "30074    10/18/22 22:57\n",
       "30075    10/18/22 23:02\n",
       "30076    10/18/22 23:02\n",
       "30077    10/18/22 23:08\n",
       "30078    10/18/22 23:31\n",
       "Name: start_t, Length: 30079, dtype: object"
      ]
     },
     "execution_count": 9,
     "metadata": {},
     "output_type": "execute_result"
    }
   ],
   "source": [
    "df['start_t'] "
   ]
  },
  {
   "cell_type": "code",
   "execution_count": 6,
   "metadata": {},
   "outputs": [],
   "source": [
    "#read csv\n",
    "df2 = pd.read_csv('/Users/naroacorettisanchez/Documents/GitHub/MultifunctionalVehicleFleets/includes/Demand/user_demand_cambridge_oct7_2019_week.csv')"
   ]
  },
  {
   "cell_type": "code",
   "execution_count": 8,
   "metadata": {},
   "outputs": [
    {
     "data": {
      "text/plain": [
       "0        2019-10-07 00:06:52.1970\n",
       "1        2019-10-07 00:07:25.9850\n",
       "2        2019-10-07 00:09:13.4160\n",
       "3        2019-10-07 00:11:19.1750\n",
       "4        2019-10-07 00:11:37.2620\n",
       "                   ...           \n",
       "14211    2019-10-13 23:53:53.2520\n",
       "14212    2019-10-13 23:54:51.1120\n",
       "14213    2019-10-13 23:56:00.1740\n",
       "14214    2019-10-13 23:57:11.2610\n",
       "14215    2019-10-13 23:58:30.8800\n",
       "Name: starttime, Length: 14216, dtype: object"
      ]
     },
     "execution_count": 8,
     "metadata": {},
     "output_type": "execute_result"
    }
   ],
   "source": [
    "df2['starttime']"
   ]
  },
  {
   "cell_type": "code",
   "execution_count": 16,
   "metadata": {},
   "outputs": [],
   "source": [
    "df['start_t'] = pd.to_datetime(df['start_t'], format='%m/%d/%y %H:%M')"
   ]
  },
  {
   "cell_type": "code",
   "execution_count": 18,
   "metadata": {},
   "outputs": [],
   "source": [
    "# Format the datetime column as '2019-10-07 00:06:52.1970'\n",
    "df['formatted_date_column'] = df['start_t'].dt.strftime('%Y-%m-%d %H:%M:%S.%f')\n"
   ]
  },
  {
   "cell_type": "code",
   "execution_count": null,
   "metadata": {},
   "outputs": [],
   "source": [
    "#save df to csv\n",
    "df.to_csv('/Users/naroacorettisanchez/Documents/GitHub/MultifunctionalVehicleFleets/includes/Demand/food_demand_cambridge_week-plotting-2.csv', index=False)"
   ]
  }
 ],
 "metadata": {
  "kernelspec": {
   "display_name": "py36",
   "language": "python",
   "name": "python3"
  },
  "language_info": {
   "codemirror_mode": {
    "name": "ipython",
    "version": 3
   },
   "file_extension": ".py",
   "mimetype": "text/x-python",
   "name": "python",
   "nbconvert_exporter": "python",
   "pygments_lexer": "ipython3",
   "version": "3.6.10"
  }
 },
 "nbformat": 4,
 "nbformat_minor": 2
}
