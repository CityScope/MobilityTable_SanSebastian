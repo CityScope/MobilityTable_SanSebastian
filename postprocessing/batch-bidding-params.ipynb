{
 "cells": [
  {
   "cell_type": "code",
   "execution_count": null,
   "metadata": {},
   "outputs": [],
   "source": []
  }
 ],
 "metadata": {
  "kernelspec": {
   "display_name": "py36",
   "language": "python",
   "name": "python3"
  },
  "language_info": {
   "name": "python",
   "version": "3.6.10 |Anaconda, Inc.| (default, May  7 2020, 23:06:31) \n[GCC 4.2.1 Compatible Clang 4.0.1 (tags/RELEASE_401/final)]"
  },
  "orig_nbformat": 4,
  "vscode": {
   "interpreter": {
    "hash": "533cbd8364415761492fb666f02e54e9198e2870e012b048fa2f0067ebd38d2f"
   }
  }
 },
 "nbformat": 4,
 "nbformat_minor": 2
}
