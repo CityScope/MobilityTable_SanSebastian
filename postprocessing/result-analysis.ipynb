{
 "cells": [
  {
   "cell_type": "code",
   "execution_count": null,
   "metadata": {},
   "outputs": [],
   "source": [
    "import numpy as np\n",
    "import pandas as pd\n",
    "import matplotlib.pyplot as plt"
   ]
  },
  {
   "cell_type": "code",
   "execution_count": null,
   "metadata": {},
   "outputs": [],
   "source": [
    "#Import data\n",
    "\n",
    "path='../results/2022-12-06 01.00.00'\n",
    "\n",
    "#People\n",
    "user_path=path+'user_concat.csv'\n",
    "\n",
    "#Pakcages\n",
    "package_path=path+'package_concat.csv'\n",
    "\n",
    "#Bike\n",
    "#bike_path=path+'bike_concat.csv'\n",
    "\n",
    "user_df=pd.read_csv(user_path)\n",
    "package_df=pd.read_csv(package_path)\n",
    "#bike_df=pd.read_csv(bike_path)"
   ]
  },
  {
   "cell_type": "code",
   "execution_count": null,
   "metadata": {},
   "outputs": [],
   "source": [
    "user_df.head()"
   ]
  }
 ],
 "metadata": {
  "kernelspec": {
   "display_name": "Python 3.5.6 ('py3')",
   "language": "python",
   "name": "python3"
  },
  "language_info": {
   "name": "python",
   "version": "3.5.6"
  },
  "orig_nbformat": 4,
  "vscode": {
   "interpreter": {
    "hash": "eb6b210b92e246b3592a95fdb9487e042303461977fd04885660d07645d2ebf1"
   }
  }
 },
 "nbformat": 4,
 "nbformat_minor": 2
}
